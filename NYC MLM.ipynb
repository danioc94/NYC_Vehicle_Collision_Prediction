{
 "cells": [
  {
   "cell_type": "code",
   "execution_count": 1,
   "id": "5d0744bd",
   "metadata": {},
   "outputs": [],
   "source": [
    "import pandas as pd\n",
    "from pathlib import Path\n",
    "import matplotlib.pyplot as plt\n",
    "import numpy as np\n",
    "from sklearn.linear_model import LinearRegression\n",
    "from sklearn.ensemble import RandomForestClassifier\n",
    "from sklearn.preprocessing import StandardScaler\n",
    "from sklearn.model_selection import train_test_split\n",
    "from sklearn.metrics import confusion_matrix, accuracy_score, classification_report"
   ]
  },
  {
   "cell_type": "code",
   "execution_count": 2,
   "id": "5ce2f965",
   "metadata": {
    "scrolled": true
   },
   "outputs": [
    {
     "data": {
      "text/html": [
       "<div>\n",
       "<style scoped>\n",
       "    .dataframe tbody tr th:only-of-type {\n",
       "        vertical-align: middle;\n",
       "    }\n",
       "\n",
       "    .dataframe tbody tr th {\n",
       "        vertical-align: top;\n",
       "    }\n",
       "\n",
       "    .dataframe thead th {\n",
       "        text-align: right;\n",
       "    }\n",
       "</style>\n",
       "<table border=\"1\" class=\"dataframe\">\n",
       "  <thead>\n",
       "    <tr style=\"text-align: right;\">\n",
       "      <th></th>\n",
       "      <th>CRASH DATE</th>\n",
       "      <th>CRASH TIME</th>\n",
       "      <th>BOROUGH</th>\n",
       "      <th>ZIP CODE</th>\n",
       "      <th>NUMBER OF PERSONS INJURED</th>\n",
       "    </tr>\n",
       "  </thead>\n",
       "  <tbody>\n",
       "    <tr>\n",
       "      <th>0</th>\n",
       "      <td>2016-04-16</td>\n",
       "      <td>14:20</td>\n",
       "      <td>BROOKLYN</td>\n",
       "      <td>11214.0</td>\n",
       "      <td>0.0</td>\n",
       "    </tr>\n",
       "    <tr>\n",
       "      <th>1</th>\n",
       "      <td>2016-06-02</td>\n",
       "      <td>7:28</td>\n",
       "      <td>BROOKLYN</td>\n",
       "      <td>11210.0</td>\n",
       "      <td>1.0</td>\n",
       "    </tr>\n",
       "    <tr>\n",
       "      <th>2</th>\n",
       "      <td>2016-06-06</td>\n",
       "      <td>14:56</td>\n",
       "      <td>BROOKLYN</td>\n",
       "      <td>11212.0</td>\n",
       "      <td>0.0</td>\n",
       "    </tr>\n",
       "    <tr>\n",
       "      <th>3</th>\n",
       "      <td>2016-09-26</td>\n",
       "      <td>16:58</td>\n",
       "      <td>BROOKLYN</td>\n",
       "      <td>11203.0</td>\n",
       "      <td>0.0</td>\n",
       "    </tr>\n",
       "    <tr>\n",
       "      <th>4</th>\n",
       "      <td>2016-12-29</td>\n",
       "      <td>13:15</td>\n",
       "      <td>BRONX</td>\n",
       "      <td>10467.0</td>\n",
       "      <td>0.0</td>\n",
       "    </tr>\n",
       "  </tbody>\n",
       "</table>\n",
       "</div>"
      ],
      "text/plain": [
       "   CRASH DATE CRASH TIME   BOROUGH  ZIP CODE  NUMBER OF PERSONS INJURED\n",
       "0  2016-04-16      14:20  BROOKLYN   11214.0                        0.0\n",
       "1  2016-06-02       7:28  BROOKLYN   11210.0                        1.0\n",
       "2  2016-06-06      14:56  BROOKLYN   11212.0                        0.0\n",
       "3  2016-09-26      16:58  BROOKLYN   11203.0                        0.0\n",
       "4  2016-12-29      13:15     BRONX   10467.0                        0.0"
      ]
     },
     "execution_count": 2,
     "metadata": {},
     "output_type": "execute_result"
    }
   ],
   "source": [
    "df = pd.read_csv(Path('CSV/Injured_year2016.csv'))\n",
    "df.head()"
   ]
  },
  {
   "cell_type": "code",
   "execution_count": 3,
   "id": "e470b3ea",
   "metadata": {
    "scrolled": false
   },
   "outputs": [],
   "source": [
    "df =df.rename(columns={'NUMBER OF PERSONS INJURED': 'INJURED', 'CRASH DATE': 'DATE', 'CRASH TIME':'TIME'})"
   ]
  },
  {
   "cell_type": "code",
   "execution_count": 4,
   "id": "82156fd0",
   "metadata": {
    "scrolled": true
   },
   "outputs": [
    {
     "data": {
      "text/html": [
       "<div>\n",
       "<style scoped>\n",
       "    .dataframe tbody tr th:only-of-type {\n",
       "        vertical-align: middle;\n",
       "    }\n",
       "\n",
       "    .dataframe tbody tr th {\n",
       "        vertical-align: top;\n",
       "    }\n",
       "\n",
       "    .dataframe thead th {\n",
       "        text-align: right;\n",
       "    }\n",
       "</style>\n",
       "<table border=\"1\" class=\"dataframe\">\n",
       "  <thead>\n",
       "    <tr style=\"text-align: right;\">\n",
       "      <th></th>\n",
       "      <th>DATE</th>\n",
       "      <th>TIME</th>\n",
       "      <th>BOROUGH</th>\n",
       "      <th>ZIP CODE</th>\n",
       "      <th>INJURED</th>\n",
       "    </tr>\n",
       "  </thead>\n",
       "  <tbody>\n",
       "    <tr>\n",
       "      <th>0</th>\n",
       "      <td>2016-04-16</td>\n",
       "      <td>14:20</td>\n",
       "      <td>BROOKLYN</td>\n",
       "      <td>11214.0</td>\n",
       "      <td>0.0</td>\n",
       "    </tr>\n",
       "    <tr>\n",
       "      <th>1</th>\n",
       "      <td>2016-06-02</td>\n",
       "      <td>7:28</td>\n",
       "      <td>BROOKLYN</td>\n",
       "      <td>11210.0</td>\n",
       "      <td>1.0</td>\n",
       "    </tr>\n",
       "    <tr>\n",
       "      <th>2</th>\n",
       "      <td>2016-06-06</td>\n",
       "      <td>14:56</td>\n",
       "      <td>BROOKLYN</td>\n",
       "      <td>11212.0</td>\n",
       "      <td>0.0</td>\n",
       "    </tr>\n",
       "    <tr>\n",
       "      <th>3</th>\n",
       "      <td>2016-09-26</td>\n",
       "      <td>16:58</td>\n",
       "      <td>BROOKLYN</td>\n",
       "      <td>11203.0</td>\n",
       "      <td>0.0</td>\n",
       "    </tr>\n",
       "    <tr>\n",
       "      <th>4</th>\n",
       "      <td>2016-12-29</td>\n",
       "      <td>13:15</td>\n",
       "      <td>BRONX</td>\n",
       "      <td>10467.0</td>\n",
       "      <td>0.0</td>\n",
       "    </tr>\n",
       "  </tbody>\n",
       "</table>\n",
       "</div>"
      ],
      "text/plain": [
       "         DATE   TIME   BOROUGH  ZIP CODE  INJURED\n",
       "0  2016-04-16  14:20  BROOKLYN   11214.0      0.0\n",
       "1  2016-06-02   7:28  BROOKLYN   11210.0      1.0\n",
       "2  2016-06-06  14:56  BROOKLYN   11212.0      0.0\n",
       "3  2016-09-26  16:58  BROOKLYN   11203.0      0.0\n",
       "4  2016-12-29  13:15     BRONX   10467.0      0.0"
      ]
     },
     "execution_count": 4,
     "metadata": {},
     "output_type": "execute_result"
    }
   ],
   "source": [
    "df.head()"
   ]
  },
  {
   "cell_type": "code",
   "execution_count": 5,
   "id": "b52947d0",
   "metadata": {},
   "outputs": [
    {
     "data": {
      "text/plain": [
       "DATE         object\n",
       "TIME         object\n",
       "BOROUGH      object\n",
       "ZIP CODE    float64\n",
       "INJURED     float64\n",
       "dtype: object"
      ]
     },
     "execution_count": 5,
     "metadata": {},
     "output_type": "execute_result"
    }
   ],
   "source": [
    "df.dtypes"
   ]
  },
  {
   "cell_type": "code",
   "execution_count": 6,
   "id": "424cd355",
   "metadata": {},
   "outputs": [],
   "source": [
    "df['DATE']= pd.to_datetime(df['DATE'])\n",
    "df['DATE'] = (df['DATE'] - df['DATE'].min())  / np.timedelta64(1,'D')"
   ]
  },
  {
   "cell_type": "code",
   "execution_count": 7,
   "id": "5e28eee4",
   "metadata": {},
   "outputs": [],
   "source": [
    "df['TIME']= pd.to_datetime(df['TIME'])\n",
    "df['TIME'] = (df['TIME'] - df['TIME'].min())  / np.timedelta64(1,'D')"
   ]
  },
  {
   "cell_type": "code",
   "execution_count": 8,
   "id": "8b627706",
   "metadata": {},
   "outputs": [
    {
     "data": {
      "text/plain": [
       "DATE        float64\n",
       "TIME        float64\n",
       "BOROUGH      object\n",
       "ZIP CODE    float64\n",
       "INJURED     float64\n",
       "dtype: object"
      ]
     },
     "execution_count": 8,
     "metadata": {},
     "output_type": "execute_result"
    }
   ],
   "source": [
    "df.dtypes"
   ]
  },
  {
   "cell_type": "code",
   "execution_count": 9,
   "id": "4b1dce63",
   "metadata": {},
   "outputs": [],
   "source": [
    "borough_mapping = {\n",
    "    \"BROOKLYN\": 0,\n",
    "    \"BRONX\": 1,\n",
    "    \"QUEENS\": 2,\n",
    "    \"MANHATTAN\": 3,\n",
    "    \"STATEN ISLAND\": 4\n",
    "}"
   ]
  },
  {
   "cell_type": "code",
   "execution_count": 10,
   "id": "2310b507",
   "metadata": {},
   "outputs": [],
   "source": [
    "df[\"BOROUGH\"] = df[\"BOROUGH\"].apply(lambda x: borough_mapping[x])"
   ]
  },
  {
   "cell_type": "code",
   "execution_count": 11,
   "id": "21e1faf7",
   "metadata": {},
   "outputs": [
    {
     "data": {
      "text/html": [
       "<div>\n",
       "<style scoped>\n",
       "    .dataframe tbody tr th:only-of-type {\n",
       "        vertical-align: middle;\n",
       "    }\n",
       "\n",
       "    .dataframe tbody tr th {\n",
       "        vertical-align: top;\n",
       "    }\n",
       "\n",
       "    .dataframe thead th {\n",
       "        text-align: right;\n",
       "    }\n",
       "</style>\n",
       "<table border=\"1\" class=\"dataframe\">\n",
       "  <thead>\n",
       "    <tr style=\"text-align: right;\">\n",
       "      <th></th>\n",
       "      <th>DATE</th>\n",
       "      <th>TIME</th>\n",
       "      <th>BOROUGH</th>\n",
       "      <th>ZIP CODE</th>\n",
       "      <th>INJURED</th>\n",
       "    </tr>\n",
       "  </thead>\n",
       "  <tbody>\n",
       "    <tr>\n",
       "      <th>0</th>\n",
       "      <td>106.0</td>\n",
       "      <td>0.597222</td>\n",
       "      <td>0</td>\n",
       "      <td>11214.0</td>\n",
       "      <td>0.0</td>\n",
       "    </tr>\n",
       "    <tr>\n",
       "      <th>1</th>\n",
       "      <td>153.0</td>\n",
       "      <td>0.311111</td>\n",
       "      <td>0</td>\n",
       "      <td>11210.0</td>\n",
       "      <td>1.0</td>\n",
       "    </tr>\n",
       "    <tr>\n",
       "      <th>2</th>\n",
       "      <td>157.0</td>\n",
       "      <td>0.622222</td>\n",
       "      <td>0</td>\n",
       "      <td>11212.0</td>\n",
       "      <td>0.0</td>\n",
       "    </tr>\n",
       "    <tr>\n",
       "      <th>3</th>\n",
       "      <td>269.0</td>\n",
       "      <td>0.706944</td>\n",
       "      <td>0</td>\n",
       "      <td>11203.0</td>\n",
       "      <td>0.0</td>\n",
       "    </tr>\n",
       "    <tr>\n",
       "      <th>4</th>\n",
       "      <td>363.0</td>\n",
       "      <td>0.552083</td>\n",
       "      <td>1</td>\n",
       "      <td>10467.0</td>\n",
       "      <td>0.0</td>\n",
       "    </tr>\n",
       "    <tr>\n",
       "      <th>...</th>\n",
       "      <td>...</td>\n",
       "      <td>...</td>\n",
       "      <td>...</td>\n",
       "      <td>...</td>\n",
       "      <td>...</td>\n",
       "    </tr>\n",
       "    <tr>\n",
       "      <th>153253</th>\n",
       "      <td>6.0</td>\n",
       "      <td>0.697917</td>\n",
       "      <td>2</td>\n",
       "      <td>11373.0</td>\n",
       "      <td>0.0</td>\n",
       "    </tr>\n",
       "    <tr>\n",
       "      <th>153254</th>\n",
       "      <td>18.0</td>\n",
       "      <td>0.500000</td>\n",
       "      <td>0</td>\n",
       "      <td>11214.0</td>\n",
       "      <td>1.0</td>\n",
       "    </tr>\n",
       "    <tr>\n",
       "      <th>153255</th>\n",
       "      <td>7.0</td>\n",
       "      <td>0.628472</td>\n",
       "      <td>3</td>\n",
       "      <td>10017.0</td>\n",
       "      <td>0.0</td>\n",
       "    </tr>\n",
       "    <tr>\n",
       "      <th>153256</th>\n",
       "      <td>7.0</td>\n",
       "      <td>0.565278</td>\n",
       "      <td>1</td>\n",
       "      <td>10473.0</td>\n",
       "      <td>0.0</td>\n",
       "    </tr>\n",
       "    <tr>\n",
       "      <th>153257</th>\n",
       "      <td>15.0</td>\n",
       "      <td>0.781250</td>\n",
       "      <td>2</td>\n",
       "      <td>11432.0</td>\n",
       "      <td>0.0</td>\n",
       "    </tr>\n",
       "  </tbody>\n",
       "</table>\n",
       "<p>153258 rows × 5 columns</p>\n",
       "</div>"
      ],
      "text/plain": [
       "         DATE      TIME  BOROUGH  ZIP CODE  INJURED\n",
       "0       106.0  0.597222        0   11214.0      0.0\n",
       "1       153.0  0.311111        0   11210.0      1.0\n",
       "2       157.0  0.622222        0   11212.0      0.0\n",
       "3       269.0  0.706944        0   11203.0      0.0\n",
       "4       363.0  0.552083        1   10467.0      0.0\n",
       "...       ...       ...      ...       ...      ...\n",
       "153253    6.0  0.697917        2   11373.0      0.0\n",
       "153254   18.0  0.500000        0   11214.0      1.0\n",
       "153255    7.0  0.628472        3   10017.0      0.0\n",
       "153256    7.0  0.565278        1   10473.0      0.0\n",
       "153257   15.0  0.781250        2   11432.0      0.0\n",
       "\n",
       "[153258 rows x 5 columns]"
      ]
     },
     "execution_count": 11,
     "metadata": {},
     "output_type": "execute_result"
    }
   ],
   "source": [
    "df"
   ]
  },
  {
   "cell_type": "code",
   "execution_count": 12,
   "id": "a02c9960",
   "metadata": {},
   "outputs": [
    {
     "data": {
      "text/html": [
       "<div>\n",
       "<style scoped>\n",
       "    .dataframe tbody tr th:only-of-type {\n",
       "        vertical-align: middle;\n",
       "    }\n",
       "\n",
       "    .dataframe tbody tr th {\n",
       "        vertical-align: top;\n",
       "    }\n",
       "\n",
       "    .dataframe thead th {\n",
       "        text-align: right;\n",
       "    }\n",
       "</style>\n",
       "<table border=\"1\" class=\"dataframe\">\n",
       "  <thead>\n",
       "    <tr style=\"text-align: right;\">\n",
       "      <th></th>\n",
       "      <th>DATE</th>\n",
       "      <th>TIME</th>\n",
       "      <th>BOROUGH</th>\n",
       "      <th>ZIP CODE</th>\n",
       "    </tr>\n",
       "  </thead>\n",
       "  <tbody>\n",
       "    <tr>\n",
       "      <th>0</th>\n",
       "      <td>106.0</td>\n",
       "      <td>0.597222</td>\n",
       "      <td>0</td>\n",
       "      <td>11214.0</td>\n",
       "    </tr>\n",
       "    <tr>\n",
       "      <th>1</th>\n",
       "      <td>153.0</td>\n",
       "      <td>0.311111</td>\n",
       "      <td>0</td>\n",
       "      <td>11210.0</td>\n",
       "    </tr>\n",
       "    <tr>\n",
       "      <th>2</th>\n",
       "      <td>157.0</td>\n",
       "      <td>0.622222</td>\n",
       "      <td>0</td>\n",
       "      <td>11212.0</td>\n",
       "    </tr>\n",
       "    <tr>\n",
       "      <th>3</th>\n",
       "      <td>269.0</td>\n",
       "      <td>0.706944</td>\n",
       "      <td>0</td>\n",
       "      <td>11203.0</td>\n",
       "    </tr>\n",
       "    <tr>\n",
       "      <th>4</th>\n",
       "      <td>363.0</td>\n",
       "      <td>0.552083</td>\n",
       "      <td>1</td>\n",
       "      <td>10467.0</td>\n",
       "    </tr>\n",
       "  </tbody>\n",
       "</table>\n",
       "</div>"
      ],
      "text/plain": [
       "    DATE      TIME  BOROUGH  ZIP CODE\n",
       "0  106.0  0.597222        0   11214.0\n",
       "1  153.0  0.311111        0   11210.0\n",
       "2  157.0  0.622222        0   11212.0\n",
       "3  269.0  0.706944        0   11203.0\n",
       "4  363.0  0.552083        1   10467.0"
      ]
     },
     "execution_count": 12,
     "metadata": {},
     "output_type": "execute_result"
    }
   ],
   "source": [
    "# Define the features set.\n",
    "X = df.copy()\n",
    "X = X.drop(\"INJURED\", axis=1)\n",
    "X.head()"
   ]
  },
  {
   "cell_type": "code",
   "execution_count": 13,
   "id": "3691b5be",
   "metadata": {},
   "outputs": [
    {
     "data": {
      "text/plain": [
       "array([0., 1., 0., 0., 0.])"
      ]
     },
     "execution_count": 13,
     "metadata": {},
     "output_type": "execute_result"
    }
   ],
   "source": [
    "# Define the target set.\n",
    "y = df[\"INJURED\"].ravel()\n",
    "y[:5]"
   ]
  },
  {
   "cell_type": "code",
   "execution_count": 14,
   "id": "ab4a5eac",
   "metadata": {},
   "outputs": [],
   "source": [
    "# Splitting into Train and Test sets.\n",
    "X_train, X_test, y_train, y_test = train_test_split(X, y, random_state=78)"
   ]
  },
  {
   "cell_type": "code",
   "execution_count": 15,
   "id": "9ab88016",
   "metadata": {},
   "outputs": [],
   "source": [
    "# Creating a StandardScaler instance.\n",
    "scaler = StandardScaler()\n",
    "# Fitting the Standard Scaler with the training data.\n",
    "X_scaler = scaler.fit(X_train)\n",
    "\n",
    "# Scaling the data.\n",
    "X_train_scaled = X_scaler.transform(X_train)\n",
    "X_test_scaled = X_scaler.transform(X_test)"
   ]
  },
  {
   "cell_type": "code",
   "execution_count": 16,
   "id": "56525768",
   "metadata": {},
   "outputs": [],
   "source": [
    "# Create a random forest classifier.\n",
    "rf_model = RandomForestClassifier(n_estimators=128, random_state=78) "
   ]
  },
  {
   "cell_type": "code",
   "execution_count": 17,
   "id": "8f3b6baf",
   "metadata": {},
   "outputs": [],
   "source": [
    "# Fitting the model\n",
    "rf_model = rf_model.fit(X_train_scaled, y_train)"
   ]
  },
  {
   "cell_type": "code",
   "execution_count": 18,
   "id": "d1af5cf6",
   "metadata": {},
   "outputs": [],
   "source": [
    "# Making predictions using the testing data.\n",
    "predictions = rf_model.predict(X_test_scaled)"
   ]
  },
  {
   "cell_type": "code",
   "execution_count": 19,
   "id": "ae107af2",
   "metadata": {},
   "outputs": [],
   "source": [
    "# Calculating the accuracy score.\n",
    "acc_score = accuracy_score(y_test, predictions)"
   ]
  },
  {
   "cell_type": "code",
   "execution_count": 20,
   "id": "4920827e",
   "metadata": {},
   "outputs": [
    {
     "name": "stdout",
     "output_type": "stream",
     "text": [
      "Confusion Matrix\n"
     ]
    },
    {
     "data": {
      "text/html": [
       "<div>\n",
       "<style scoped>\n",
       "    .dataframe tbody tr th:only-of-type {\n",
       "        vertical-align: middle;\n",
       "    }\n",
       "\n",
       "    .dataframe tbody tr th {\n",
       "        vertical-align: top;\n",
       "    }\n",
       "\n",
       "    .dataframe thead th {\n",
       "        text-align: right;\n",
       "    }\n",
       "</style>\n",
       "<table border=\"1\" class=\"dataframe\">\n",
       "  <thead>\n",
       "    <tr style=\"text-align: right;\">\n",
       "      <th></th>\n",
       "      <th>DATE</th>\n",
       "      <th>TIME</th>\n",
       "      <th>BOROUGH</th>\n",
       "      <th>ZIP CODE</th>\n",
       "      <th>INJURED</th>\n",
       "    </tr>\n",
       "  </thead>\n",
       "  <tbody>\n",
       "    <tr>\n",
       "      <th>0</th>\n",
       "      <td>106.0</td>\n",
       "      <td>0.597222</td>\n",
       "      <td>0</td>\n",
       "      <td>11214.0</td>\n",
       "      <td>0.0</td>\n",
       "    </tr>\n",
       "    <tr>\n",
       "      <th>1</th>\n",
       "      <td>153.0</td>\n",
       "      <td>0.311111</td>\n",
       "      <td>0</td>\n",
       "      <td>11210.0</td>\n",
       "      <td>1.0</td>\n",
       "    </tr>\n",
       "    <tr>\n",
       "      <th>2</th>\n",
       "      <td>157.0</td>\n",
       "      <td>0.622222</td>\n",
       "      <td>0</td>\n",
       "      <td>11212.0</td>\n",
       "      <td>0.0</td>\n",
       "    </tr>\n",
       "    <tr>\n",
       "      <th>3</th>\n",
       "      <td>269.0</td>\n",
       "      <td>0.706944</td>\n",
       "      <td>0</td>\n",
       "      <td>11203.0</td>\n",
       "      <td>0.0</td>\n",
       "    </tr>\n",
       "    <tr>\n",
       "      <th>4</th>\n",
       "      <td>363.0</td>\n",
       "      <td>0.552083</td>\n",
       "      <td>1</td>\n",
       "      <td>10467.0</td>\n",
       "      <td>0.0</td>\n",
       "    </tr>\n",
       "    <tr>\n",
       "      <th>...</th>\n",
       "      <td>...</td>\n",
       "      <td>...</td>\n",
       "      <td>...</td>\n",
       "      <td>...</td>\n",
       "      <td>...</td>\n",
       "    </tr>\n",
       "    <tr>\n",
       "      <th>153253</th>\n",
       "      <td>6.0</td>\n",
       "      <td>0.697917</td>\n",
       "      <td>2</td>\n",
       "      <td>11373.0</td>\n",
       "      <td>0.0</td>\n",
       "    </tr>\n",
       "    <tr>\n",
       "      <th>153254</th>\n",
       "      <td>18.0</td>\n",
       "      <td>0.500000</td>\n",
       "      <td>0</td>\n",
       "      <td>11214.0</td>\n",
       "      <td>1.0</td>\n",
       "    </tr>\n",
       "    <tr>\n",
       "      <th>153255</th>\n",
       "      <td>7.0</td>\n",
       "      <td>0.628472</td>\n",
       "      <td>3</td>\n",
       "      <td>10017.0</td>\n",
       "      <td>0.0</td>\n",
       "    </tr>\n",
       "    <tr>\n",
       "      <th>153256</th>\n",
       "      <td>7.0</td>\n",
       "      <td>0.565278</td>\n",
       "      <td>1</td>\n",
       "      <td>10473.0</td>\n",
       "      <td>0.0</td>\n",
       "    </tr>\n",
       "    <tr>\n",
       "      <th>153257</th>\n",
       "      <td>15.0</td>\n",
       "      <td>0.781250</td>\n",
       "      <td>2</td>\n",
       "      <td>11432.0</td>\n",
       "      <td>0.0</td>\n",
       "    </tr>\n",
       "  </tbody>\n",
       "</table>\n",
       "<p>153258 rows × 5 columns</p>\n",
       "</div>"
      ],
      "text/plain": [
       "         DATE      TIME  BOROUGH  ZIP CODE  INJURED\n",
       "0       106.0  0.597222        0   11214.0      0.0\n",
       "1       153.0  0.311111        0   11210.0      1.0\n",
       "2       157.0  0.622222        0   11212.0      0.0\n",
       "3       269.0  0.706944        0   11203.0      0.0\n",
       "4       363.0  0.552083        1   10467.0      0.0\n",
       "...       ...       ...      ...       ...      ...\n",
       "153253    6.0  0.697917        2   11373.0      0.0\n",
       "153254   18.0  0.500000        0   11214.0      1.0\n",
       "153255    7.0  0.628472        3   10017.0      0.0\n",
       "153256    7.0  0.565278        1   10473.0      0.0\n",
       "153257   15.0  0.781250        2   11432.0      0.0\n",
       "\n",
       "[153258 rows x 5 columns]"
      ]
     },
     "metadata": {},
     "output_type": "display_data"
    },
    {
     "name": "stdout",
     "output_type": "stream",
     "text": [
      "Accuracy Score : 0.7930053503849668\n",
      "Classification Report\n",
      "              precision    recall  f1-score   support\n",
      "\n",
      "         0.0       0.81      0.97      0.88     31078\n",
      "         1.0       0.20      0.04      0.06      5652\n",
      "         2.0       0.08      0.01      0.01      1059\n",
      "         3.0       0.04      0.00      0.01       341\n",
      "         4.0       0.00      0.00      0.00       121\n",
      "         5.0       0.00      0.00      0.00        35\n",
      "         6.0       0.00      0.00      0.00        20\n",
      "         7.0       0.00      0.00      0.00         6\n",
      "         8.0       0.00      0.00      0.00         1\n",
      "         9.0       0.00      0.00      0.00         1\n",
      "        11.0       0.00      0.00      0.00         1\n",
      "\n",
      "    accuracy                           0.79     38315\n",
      "   macro avg       0.10      0.09      0.09     38315\n",
      "weighted avg       0.69      0.79      0.73     38315\n",
      "\n"
     ]
    },
    {
     "name": "stderr",
     "output_type": "stream",
     "text": [
      "/Users/Yuyu/opt/anaconda3/envs/mlenv/lib/python3.7/site-packages/sklearn/metrics/_classification.py:1318: UndefinedMetricWarning: Precision and F-score are ill-defined and being set to 0.0 in labels with no predicted samples. Use `zero_division` parameter to control this behavior.\n",
      "  _warn_prf(average, modifier, msg_start, len(result))\n",
      "/Users/Yuyu/opt/anaconda3/envs/mlenv/lib/python3.7/site-packages/sklearn/metrics/_classification.py:1318: UndefinedMetricWarning: Precision and F-score are ill-defined and being set to 0.0 in labels with no predicted samples. Use `zero_division` parameter to control this behavior.\n",
      "  _warn_prf(average, modifier, msg_start, len(result))\n",
      "/Users/Yuyu/opt/anaconda3/envs/mlenv/lib/python3.7/site-packages/sklearn/metrics/_classification.py:1318: UndefinedMetricWarning: Precision and F-score are ill-defined and being set to 0.0 in labels with no predicted samples. Use `zero_division` parameter to control this behavior.\n",
      "  _warn_prf(average, modifier, msg_start, len(result))\n"
     ]
    }
   ],
   "source": [
    "# Displaying results\n",
    "print(\"Confusion Matrix\")\n",
    "display(df)\n",
    "print(f\"Accuracy Score : {acc_score}\")\n",
    "print(\"Classification Report\")\n",
    "print(classification_report(y_test, predictions))"
   ]
  },
  {
   "cell_type": "code",
   "execution_count": 21,
   "id": "bd0cc3bf",
   "metadata": {},
   "outputs": [
    {
     "data": {
      "text/plain": [
       "array([0.41253156, 0.35709898, 0.01008846, 0.220281  ])"
      ]
     },
     "execution_count": 21,
     "metadata": {},
     "output_type": "execute_result"
    }
   ],
   "source": [
    "# Calculate feature importance in the Random Forest model.\n",
    "importances = rf_model.feature_importances_\n",
    "importances"
   ]
  },
  {
   "cell_type": "code",
   "execution_count": 22,
   "id": "3b870ea4",
   "metadata": {},
   "outputs": [
    {
     "data": {
      "text/plain": [
       "[(0.4125315606791572, 'DATE'),\n",
       " (0.35709897784524125, 'TIME'),\n",
       " (0.22028100123992322, 'ZIP CODE'),\n",
       " (0.010088460235678191, 'BOROUGH')]"
      ]
     },
     "execution_count": 22,
     "metadata": {},
     "output_type": "execute_result"
    }
   ],
   "source": [
    "# We can sort the features by their importance.\n",
    "sorted(zip(rf_model.feature_importances_, X.columns), reverse=True)"
   ]
  },
  {
   "cell_type": "code",
   "execution_count": null,
   "id": "fde13ac1",
   "metadata": {},
   "outputs": [],
   "source": []
  },
  {
   "cell_type": "code",
   "execution_count": null,
   "id": "1c02b3cd",
   "metadata": {},
   "outputs": [],
   "source": []
  },
  {
   "cell_type": "code",
   "execution_count": null,
   "id": "40b42f59",
   "metadata": {},
   "outputs": [],
   "source": []
  },
  {
   "cell_type": "code",
   "execution_count": null,
   "id": "8b20d28a",
   "metadata": {},
   "outputs": [],
   "source": []
  },
  {
   "cell_type": "code",
   "execution_count": null,
   "id": "3f96bc12",
   "metadata": {},
   "outputs": [],
   "source": []
  },
  {
   "cell_type": "code",
   "execution_count": null,
   "id": "0502ae0f",
   "metadata": {},
   "outputs": [],
   "source": []
  },
  {
   "cell_type": "code",
   "execution_count": null,
   "id": "609bf30d",
   "metadata": {},
   "outputs": [],
   "source": []
  },
  {
   "cell_type": "code",
   "execution_count": null,
   "id": "99f1e58c",
   "metadata": {},
   "outputs": [],
   "source": []
  },
  {
   "cell_type": "code",
   "execution_count": null,
   "id": "48b8e233",
   "metadata": {},
   "outputs": [],
   "source": []
  },
  {
   "cell_type": "code",
   "execution_count": null,
   "id": "f204c6dc",
   "metadata": {},
   "outputs": [],
   "source": [
    "y = df.INJURED\n",
    "X = df.drop(columns=['INJURED'])"
   ]
  },
  {
   "cell_type": "code",
   "execution_count": 106,
   "id": "c53d0f6d",
   "metadata": {},
   "outputs": [
    {
     "data": {
      "text/plain": [
       "0         0.0\n",
       "1         1.0\n",
       "2         0.0\n",
       "3         0.0\n",
       "4         0.0\n",
       "         ... \n",
       "153253    0.0\n",
       "153254    1.0\n",
       "153255    0.0\n",
       "153256    0.0\n",
       "153257    0.0\n",
       "Name: INJURED, Length: 153258, dtype: float64"
      ]
     },
     "execution_count": 106,
     "metadata": {},
     "output_type": "execute_result"
    }
   ],
   "source": [
    "y"
   ]
  },
  {
   "cell_type": "code",
   "execution_count": 107,
   "id": "605157be",
   "metadata": {},
   "outputs": [
    {
     "data": {
      "text/plain": [
       "DATE        float64\n",
       "TIME        float64\n",
       "BOROUGH       int64\n",
       "ZIP CODE    float64\n",
       "dtype: object"
      ]
     },
     "execution_count": 107,
     "metadata": {},
     "output_type": "execute_result"
    }
   ],
   "source": [
    "X.dtypes"
   ]
  },
  {
   "cell_type": "code",
   "execution_count": 108,
   "id": "4357b49b",
   "metadata": {},
   "outputs": [],
   "source": [
    "model = LinearRegression()"
   ]
  },
  {
   "cell_type": "code",
   "execution_count": 109,
   "id": "af5717fa",
   "metadata": {},
   "outputs": [
    {
     "data": {
      "text/plain": [
       "LinearRegression()"
      ]
     },
     "execution_count": 109,
     "metadata": {},
     "output_type": "execute_result"
    }
   ],
   "source": [
    "model.fit(X, y)"
   ]
  },
  {
   "cell_type": "code",
   "execution_count": 110,
   "id": "bc2e05ee",
   "metadata": {},
   "outputs": [
    {
     "name": "stdout",
     "output_type": "stream",
     "text": [
      "(153258,)\n"
     ]
    }
   ],
   "source": [
    "y_pred = model.predict(X)\n",
    "print(y_pred.shape)"
   ]
  },
  {
   "cell_type": "code",
   "execution_count": 112,
   "id": "e3bf67ae",
   "metadata": {},
   "outputs": [
    {
     "data": {
      "text/plain": [
       "array([0.2855035 , 0.2773512 , 0.29258856, ..., 0.17352449, 0.22534364,\n",
       "       0.25452145])"
      ]
     },
     "execution_count": 112,
     "metadata": {},
     "output_type": "execute_result"
    }
   ],
   "source": [
    "y_pred"
   ]
  },
  {
   "cell_type": "code",
   "execution_count": null,
   "id": "19a0f446",
   "metadata": {},
   "outputs": [],
   "source": [
    "# Define the features set.\n",
    "X = df_loans.copy()\n",
    "X = X.drop(\"bad\", axis=1)\n",
    "X.head()"
   ]
  }
 ],
 "metadata": {
  "kernelspec": {
   "display_name": "mlenv",
   "language": "python",
   "name": "mlenv"
  },
  "language_info": {
   "codemirror_mode": {
    "name": "ipython",
    "version": 3
   },
   "file_extension": ".py",
   "mimetype": "text/x-python",
   "name": "python",
   "nbconvert_exporter": "python",
   "pygments_lexer": "ipython3",
   "version": "3.7.13"
  }
 },
 "nbformat": 4,
 "nbformat_minor": 5
}
