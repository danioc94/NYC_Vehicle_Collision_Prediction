{
 "cells": [
  {
   "cell_type": "code",
   "execution_count": 93,
   "id": "5d0744bd",
   "metadata": {},
   "outputs": [],
   "source": [
    "import pandas as pd\n",
    "from pathlib import Path\n",
    "import matplotlib.pyplot as plt\n",
    "import numpy as np\n",
    "from sklearn.linear_model import LinearRegression"
   ]
  },
  {
   "cell_type": "code",
   "execution_count": 94,
   "id": "5ce2f965",
   "metadata": {
    "scrolled": true
   },
   "outputs": [
    {
     "data": {
      "text/html": [
       "<div>\n",
       "<style scoped>\n",
       "    .dataframe tbody tr th:only-of-type {\n",
       "        vertical-align: middle;\n",
       "    }\n",
       "\n",
       "    .dataframe tbody tr th {\n",
       "        vertical-align: top;\n",
       "    }\n",
       "\n",
       "    .dataframe thead th {\n",
       "        text-align: right;\n",
       "    }\n",
       "</style>\n",
       "<table border=\"1\" class=\"dataframe\">\n",
       "  <thead>\n",
       "    <tr style=\"text-align: right;\">\n",
       "      <th></th>\n",
       "      <th>CRASH DATE</th>\n",
       "      <th>CRASH TIME</th>\n",
       "      <th>BOROUGH</th>\n",
       "      <th>ZIP CODE</th>\n",
       "      <th>NUMBER OF PERSONS INJURED</th>\n",
       "    </tr>\n",
       "  </thead>\n",
       "  <tbody>\n",
       "    <tr>\n",
       "      <th>0</th>\n",
       "      <td>2016-04-16</td>\n",
       "      <td>14:20</td>\n",
       "      <td>BROOKLYN</td>\n",
       "      <td>11214.0</td>\n",
       "      <td>0.0</td>\n",
       "    </tr>\n",
       "    <tr>\n",
       "      <th>1</th>\n",
       "      <td>2016-06-02</td>\n",
       "      <td>7:28</td>\n",
       "      <td>BROOKLYN</td>\n",
       "      <td>11210.0</td>\n",
       "      <td>1.0</td>\n",
       "    </tr>\n",
       "    <tr>\n",
       "      <th>2</th>\n",
       "      <td>2016-06-06</td>\n",
       "      <td>14:56</td>\n",
       "      <td>BROOKLYN</td>\n",
       "      <td>11212.0</td>\n",
       "      <td>0.0</td>\n",
       "    </tr>\n",
       "    <tr>\n",
       "      <th>3</th>\n",
       "      <td>2016-09-26</td>\n",
       "      <td>16:58</td>\n",
       "      <td>BROOKLYN</td>\n",
       "      <td>11203.0</td>\n",
       "      <td>0.0</td>\n",
       "    </tr>\n",
       "    <tr>\n",
       "      <th>4</th>\n",
       "      <td>2016-12-29</td>\n",
       "      <td>13:15</td>\n",
       "      <td>BRONX</td>\n",
       "      <td>10467.0</td>\n",
       "      <td>0.0</td>\n",
       "    </tr>\n",
       "  </tbody>\n",
       "</table>\n",
       "</div>"
      ],
      "text/plain": [
       "   CRASH DATE CRASH TIME   BOROUGH  ZIP CODE  NUMBER OF PERSONS INJURED\n",
       "0  2016-04-16      14:20  BROOKLYN   11214.0                        0.0\n",
       "1  2016-06-02       7:28  BROOKLYN   11210.0                        1.0\n",
       "2  2016-06-06      14:56  BROOKLYN   11212.0                        0.0\n",
       "3  2016-09-26      16:58  BROOKLYN   11203.0                        0.0\n",
       "4  2016-12-29      13:15     BRONX   10467.0                        0.0"
      ]
     },
     "execution_count": 94,
     "metadata": {},
     "output_type": "execute_result"
    }
   ],
   "source": [
    "df = pd.read_csv(Path('CSV/year2016.csv'))\n",
    "df.head()"
   ]
  },
  {
   "cell_type": "code",
   "execution_count": 95,
   "id": "e470b3ea",
   "metadata": {
    "scrolled": false
   },
   "outputs": [],
   "source": [
    "df =df.rename(columns={'NUMBER OF PERSONS INJURED': 'INJURED', 'CRASH DATE': 'DATE', 'CRASH TIME':'TIME'})"
   ]
  },
  {
   "cell_type": "code",
   "execution_count": 96,
   "id": "82156fd0",
   "metadata": {
    "scrolled": true
   },
   "outputs": [
    {
     "data": {
      "text/html": [
       "<div>\n",
       "<style scoped>\n",
       "    .dataframe tbody tr th:only-of-type {\n",
       "        vertical-align: middle;\n",
       "    }\n",
       "\n",
       "    .dataframe tbody tr th {\n",
       "        vertical-align: top;\n",
       "    }\n",
       "\n",
       "    .dataframe thead th {\n",
       "        text-align: right;\n",
       "    }\n",
       "</style>\n",
       "<table border=\"1\" class=\"dataframe\">\n",
       "  <thead>\n",
       "    <tr style=\"text-align: right;\">\n",
       "      <th></th>\n",
       "      <th>DATE</th>\n",
       "      <th>TIME</th>\n",
       "      <th>BOROUGH</th>\n",
       "      <th>ZIP CODE</th>\n",
       "      <th>INJURED</th>\n",
       "    </tr>\n",
       "  </thead>\n",
       "  <tbody>\n",
       "    <tr>\n",
       "      <th>0</th>\n",
       "      <td>2016-04-16</td>\n",
       "      <td>14:20</td>\n",
       "      <td>BROOKLYN</td>\n",
       "      <td>11214.0</td>\n",
       "      <td>0.0</td>\n",
       "    </tr>\n",
       "    <tr>\n",
       "      <th>1</th>\n",
       "      <td>2016-06-02</td>\n",
       "      <td>7:28</td>\n",
       "      <td>BROOKLYN</td>\n",
       "      <td>11210.0</td>\n",
       "      <td>1.0</td>\n",
       "    </tr>\n",
       "    <tr>\n",
       "      <th>2</th>\n",
       "      <td>2016-06-06</td>\n",
       "      <td>14:56</td>\n",
       "      <td>BROOKLYN</td>\n",
       "      <td>11212.0</td>\n",
       "      <td>0.0</td>\n",
       "    </tr>\n",
       "    <tr>\n",
       "      <th>3</th>\n",
       "      <td>2016-09-26</td>\n",
       "      <td>16:58</td>\n",
       "      <td>BROOKLYN</td>\n",
       "      <td>11203.0</td>\n",
       "      <td>0.0</td>\n",
       "    </tr>\n",
       "    <tr>\n",
       "      <th>4</th>\n",
       "      <td>2016-12-29</td>\n",
       "      <td>13:15</td>\n",
       "      <td>BRONX</td>\n",
       "      <td>10467.0</td>\n",
       "      <td>0.0</td>\n",
       "    </tr>\n",
       "  </tbody>\n",
       "</table>\n",
       "</div>"
      ],
      "text/plain": [
       "         DATE   TIME   BOROUGH  ZIP CODE  INJURED\n",
       "0  2016-04-16  14:20  BROOKLYN   11214.0      0.0\n",
       "1  2016-06-02   7:28  BROOKLYN   11210.0      1.0\n",
       "2  2016-06-06  14:56  BROOKLYN   11212.0      0.0\n",
       "3  2016-09-26  16:58  BROOKLYN   11203.0      0.0\n",
       "4  2016-12-29  13:15     BRONX   10467.0      0.0"
      ]
     },
     "execution_count": 96,
     "metadata": {},
     "output_type": "execute_result"
    }
   ],
   "source": [
    "df.head()"
   ]
  },
  {
   "cell_type": "code",
   "execution_count": 97,
   "id": "b52947d0",
   "metadata": {},
   "outputs": [
    {
     "data": {
      "text/plain": [
       "DATE         object\n",
       "TIME         object\n",
       "BOROUGH      object\n",
       "ZIP CODE    float64\n",
       "INJURED     float64\n",
       "dtype: object"
      ]
     },
     "execution_count": 97,
     "metadata": {},
     "output_type": "execute_result"
    }
   ],
   "source": [
    "df.dtypes"
   ]
  },
  {
   "cell_type": "code",
   "execution_count": 98,
   "id": "424cd355",
   "metadata": {},
   "outputs": [],
   "source": [
    "df['DATE']= pd.to_datetime(df['DATE'])\n",
    "df['DATE'] = (df['DATE'] - df['DATE'].min())  / np.timedelta64(1,'D')"
   ]
  },
  {
   "cell_type": "code",
   "execution_count": 100,
   "id": "5e28eee4",
   "metadata": {},
   "outputs": [],
   "source": [
    "df['TIME']= pd.to_datetime(df['TIME'])\n",
    "df['TIME'] = (df['TIME'] - df['TIME'].min())  / np.timedelta64(1,'D')"
   ]
  },
  {
   "cell_type": "code",
   "execution_count": 101,
   "id": "8b627706",
   "metadata": {},
   "outputs": [
    {
     "data": {
      "text/plain": [
       "DATE        float64\n",
       "TIME        float64\n",
       "BOROUGH      object\n",
       "ZIP CODE    float64\n",
       "INJURED     float64\n",
       "dtype: object"
      ]
     },
     "execution_count": 101,
     "metadata": {},
     "output_type": "execute_result"
    }
   ],
   "source": [
    "df.dtypes"
   ]
  },
  {
   "cell_type": "code",
   "execution_count": 102,
   "id": "4b1dce63",
   "metadata": {},
   "outputs": [],
   "source": [
    "borough_mapping = {\n",
    "    \"BROOKLYN\": 0,\n",
    "    \"BRONX\": 1,\n",
    "    \"QUEENS\": 2,\n",
    "    \"MANHATTAN\": 3,\n",
    "    \"STATEN ISLAND\": 4\n",
    "}"
   ]
  },
  {
   "cell_type": "code",
   "execution_count": 103,
   "id": "2310b507",
   "metadata": {},
   "outputs": [],
   "source": [
    "df[\"BOROUGH\"] = df[\"BOROUGH\"].apply(lambda x: borough_mapping[x])"
   ]
  },
  {
   "cell_type": "code",
   "execution_count": 104,
   "id": "21e1faf7",
   "metadata": {},
   "outputs": [
    {
     "data": {
      "text/html": [
       "<div>\n",
       "<style scoped>\n",
       "    .dataframe tbody tr th:only-of-type {\n",
       "        vertical-align: middle;\n",
       "    }\n",
       "\n",
       "    .dataframe tbody tr th {\n",
       "        vertical-align: top;\n",
       "    }\n",
       "\n",
       "    .dataframe thead th {\n",
       "        text-align: right;\n",
       "    }\n",
       "</style>\n",
       "<table border=\"1\" class=\"dataframe\">\n",
       "  <thead>\n",
       "    <tr style=\"text-align: right;\">\n",
       "      <th></th>\n",
       "      <th>DATE</th>\n",
       "      <th>TIME</th>\n",
       "      <th>BOROUGH</th>\n",
       "      <th>ZIP CODE</th>\n",
       "      <th>INJURED</th>\n",
       "    </tr>\n",
       "  </thead>\n",
       "  <tbody>\n",
       "    <tr>\n",
       "      <th>0</th>\n",
       "      <td>106.0</td>\n",
       "      <td>0.597222</td>\n",
       "      <td>0</td>\n",
       "      <td>11214.0</td>\n",
       "      <td>0.0</td>\n",
       "    </tr>\n",
       "    <tr>\n",
       "      <th>1</th>\n",
       "      <td>153.0</td>\n",
       "      <td>0.311111</td>\n",
       "      <td>0</td>\n",
       "      <td>11210.0</td>\n",
       "      <td>1.0</td>\n",
       "    </tr>\n",
       "    <tr>\n",
       "      <th>2</th>\n",
       "      <td>157.0</td>\n",
       "      <td>0.622222</td>\n",
       "      <td>0</td>\n",
       "      <td>11212.0</td>\n",
       "      <td>0.0</td>\n",
       "    </tr>\n",
       "    <tr>\n",
       "      <th>3</th>\n",
       "      <td>269.0</td>\n",
       "      <td>0.706944</td>\n",
       "      <td>0</td>\n",
       "      <td>11203.0</td>\n",
       "      <td>0.0</td>\n",
       "    </tr>\n",
       "    <tr>\n",
       "      <th>4</th>\n",
       "      <td>363.0</td>\n",
       "      <td>0.552083</td>\n",
       "      <td>1</td>\n",
       "      <td>10467.0</td>\n",
       "      <td>0.0</td>\n",
       "    </tr>\n",
       "    <tr>\n",
       "      <th>...</th>\n",
       "      <td>...</td>\n",
       "      <td>...</td>\n",
       "      <td>...</td>\n",
       "      <td>...</td>\n",
       "      <td>...</td>\n",
       "    </tr>\n",
       "    <tr>\n",
       "      <th>153253</th>\n",
       "      <td>6.0</td>\n",
       "      <td>0.697917</td>\n",
       "      <td>2</td>\n",
       "      <td>11373.0</td>\n",
       "      <td>0.0</td>\n",
       "    </tr>\n",
       "    <tr>\n",
       "      <th>153254</th>\n",
       "      <td>18.0</td>\n",
       "      <td>0.500000</td>\n",
       "      <td>0</td>\n",
       "      <td>11214.0</td>\n",
       "      <td>1.0</td>\n",
       "    </tr>\n",
       "    <tr>\n",
       "      <th>153255</th>\n",
       "      <td>7.0</td>\n",
       "      <td>0.628472</td>\n",
       "      <td>3</td>\n",
       "      <td>10017.0</td>\n",
       "      <td>0.0</td>\n",
       "    </tr>\n",
       "    <tr>\n",
       "      <th>153256</th>\n",
       "      <td>7.0</td>\n",
       "      <td>0.565278</td>\n",
       "      <td>1</td>\n",
       "      <td>10473.0</td>\n",
       "      <td>0.0</td>\n",
       "    </tr>\n",
       "    <tr>\n",
       "      <th>153257</th>\n",
       "      <td>15.0</td>\n",
       "      <td>0.781250</td>\n",
       "      <td>2</td>\n",
       "      <td>11432.0</td>\n",
       "      <td>0.0</td>\n",
       "    </tr>\n",
       "  </tbody>\n",
       "</table>\n",
       "<p>153258 rows × 5 columns</p>\n",
       "</div>"
      ],
      "text/plain": [
       "         DATE      TIME  BOROUGH  ZIP CODE  INJURED\n",
       "0       106.0  0.597222        0   11214.0      0.0\n",
       "1       153.0  0.311111        0   11210.0      1.0\n",
       "2       157.0  0.622222        0   11212.0      0.0\n",
       "3       269.0  0.706944        0   11203.0      0.0\n",
       "4       363.0  0.552083        1   10467.0      0.0\n",
       "...       ...       ...      ...       ...      ...\n",
       "153253    6.0  0.697917        2   11373.0      0.0\n",
       "153254   18.0  0.500000        0   11214.0      1.0\n",
       "153255    7.0  0.628472        3   10017.0      0.0\n",
       "153256    7.0  0.565278        1   10473.0      0.0\n",
       "153257   15.0  0.781250        2   11432.0      0.0\n",
       "\n",
       "[153258 rows x 5 columns]"
      ]
     },
     "execution_count": 104,
     "metadata": {},
     "output_type": "execute_result"
    }
   ],
   "source": [
    "df"
   ]
  },
  {
   "cell_type": "code",
   "execution_count": 105,
   "id": "e5795a9d",
   "metadata": {},
   "outputs": [],
   "source": [
    "y = df.INJURED\n",
    "X = df.drop(columns=['INJURED'])"
   ]
  },
  {
   "cell_type": "code",
   "execution_count": 106,
   "id": "c53d0f6d",
   "metadata": {},
   "outputs": [
    {
     "data": {
      "text/plain": [
       "0         0.0\n",
       "1         1.0\n",
       "2         0.0\n",
       "3         0.0\n",
       "4         0.0\n",
       "         ... \n",
       "153253    0.0\n",
       "153254    1.0\n",
       "153255    0.0\n",
       "153256    0.0\n",
       "153257    0.0\n",
       "Name: INJURED, Length: 153258, dtype: float64"
      ]
     },
     "execution_count": 106,
     "metadata": {},
     "output_type": "execute_result"
    }
   ],
   "source": [
    "y"
   ]
  },
  {
   "cell_type": "code",
   "execution_count": 107,
   "id": "605157be",
   "metadata": {},
   "outputs": [
    {
     "data": {
      "text/plain": [
       "DATE        float64\n",
       "TIME        float64\n",
       "BOROUGH       int64\n",
       "ZIP CODE    float64\n",
       "dtype: object"
      ]
     },
     "execution_count": 107,
     "metadata": {},
     "output_type": "execute_result"
    }
   ],
   "source": [
    "X.dtypes"
   ]
  },
  {
   "cell_type": "code",
   "execution_count": 108,
   "id": "4357b49b",
   "metadata": {},
   "outputs": [],
   "source": [
    "model = LinearRegression()"
   ]
  },
  {
   "cell_type": "code",
   "execution_count": 109,
   "id": "af5717fa",
   "metadata": {},
   "outputs": [
    {
     "data": {
      "text/plain": [
       "LinearRegression()"
      ]
     },
     "execution_count": 109,
     "metadata": {},
     "output_type": "execute_result"
    }
   ],
   "source": [
    "model.fit(X, y)"
   ]
  },
  {
   "cell_type": "code",
   "execution_count": 110,
   "id": "bc2e05ee",
   "metadata": {},
   "outputs": [
    {
     "name": "stdout",
     "output_type": "stream",
     "text": [
      "(153258,)\n"
     ]
    }
   ],
   "source": [
    "y_pred = model.predict(X)\n",
    "print(y_pred.shape)"
   ]
  },
  {
   "cell_type": "code",
   "execution_count": 112,
   "id": "e3bf67ae",
   "metadata": {},
   "outputs": [
    {
     "data": {
      "text/plain": [
       "array([0.2855035 , 0.2773512 , 0.29258856, ..., 0.17352449, 0.22534364,\n",
       "       0.25452145])"
      ]
     },
     "execution_count": 112,
     "metadata": {},
     "output_type": "execute_result"
    }
   ],
   "source": [
    "y_pred"
   ]
  },
  {
   "cell_type": "code",
   "execution_count": null,
   "id": "19a0f446",
   "metadata": {},
   "outputs": [],
   "source": []
  }
 ],
 "metadata": {
  "kernelspec": {
   "display_name": "mlenv",
   "language": "python",
   "name": "mlenv"
  },
  "language_info": {
   "codemirror_mode": {
    "name": "ipython",
    "version": 3
   },
   "file_extension": ".py",
   "mimetype": "text/x-python",
   "name": "python",
   "nbconvert_exporter": "python",
   "pygments_lexer": "ipython3",
   "version": "3.7.13"
  }
 },
 "nbformat": 4,
 "nbformat_minor": 5
}
